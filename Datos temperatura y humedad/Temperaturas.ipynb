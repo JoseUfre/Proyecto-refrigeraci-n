{
 "cells": [
  {
   "cell_type": "markdown",
   "metadata": {},
   "source": [
    "# Verano"
   ]
  },
  {
   "cell_type": "markdown",
   "metadata": {},
   "source": [
    "*Importar pandas*"
   ]
  },
  {
   "cell_type": "code",
   "execution_count": 3,
   "metadata": {},
   "outputs": [],
   "source": [
    "import pandas as pd"
   ]
  },
  {
   "cell_type": "markdown",
   "metadata": {},
   "source": [
    "## Temperatura promedio temporada verano anual"
   ]
  },
  {
   "cell_type": "markdown",
   "metadata": {},
   "source": [
    "## 2017"
   ]
  },
  {
   "cell_type": "code",
   "execution_count": 6,
   "metadata": {},
   "outputs": [
    {
     "name": "stdout",
     "output_type": "stream",
     "text": [
      "La temperatura promedio durante los meses de verano es: 24.75°C\n"
     ]
    }
   ],
   "source": [
    "archivo_csv = \"Temperatura historica/330020_2017_Temperatura_.csv\"\n",
    "data = pd.read_csv(archivo_csv, sep='[;,]', engine=\"python\")\n",
    "\n",
    "\n",
    "data['momento'] = pd.to_datetime(data['momento'], format='%d-%m-%Y %H:%M:%S')\n",
    "\n",
    "\n",
    "meses_verano = [12, 1, 2]\n",
    "data_verano = data[data['momento'].dt.month.isin(meses_verano)]\n",
    "data_verano = data_verano[(data_verano['momento'].dt.hour >= 10) & (data_verano['momento'].dt.hour <= 21)]\n",
    "\n",
    "tp_2017 = data_verano['Ts_Valor'].mean()\n",
    "\n",
    "# Imprimir el resultado\n",
    "print(f\"La temperatura promedio durante los meses de verano es: {tp_2017:.2f}°C\")"
   ]
  },
  {
   "cell_type": "markdown",
   "metadata": {},
   "source": [
    "## 2018"
   ]
  },
  {
   "cell_type": "code",
   "execution_count": 8,
   "metadata": {},
   "outputs": [
    {
     "name": "stdout",
     "output_type": "stream",
     "text": [
      "La temperatura promedio durante los meses de verano es: 23.07°C\n"
     ]
    }
   ],
   "source": [
    "archivo_csv = \"Temperatura historica/330020_2018_Temperatura_.csv\"\n",
    "data = pd.read_csv(archivo_csv, sep='[;,]', engine=\"python\")\n",
    "\n",
    "\n",
    "data['momento'] = pd.to_datetime(data['momento'], format='%d-%m-%Y %H:%M:%S')\n",
    "\n",
    "\n",
    "meses_verano = [12, 1, 2]\n",
    "data_verano = data[data['momento'].dt.month.isin(meses_verano)]\n",
    "data_verano = data_verano[(data_verano['momento'].dt.hour >= 10) & (data_verano['momento'].dt.hour <= 21)]\n",
    "\n",
    "tp_2018 = data_verano['Ts_Valor'].mean()\n",
    "\n",
    "# Imprimir el resultado\n",
    "print(f\"La temperatura promedio durante los meses de verano es: {tp_2018:.2f}°C\")"
   ]
  },
  {
   "cell_type": "markdown",
   "metadata": {},
   "source": [
    "## 2019"
   ]
  },
  {
   "cell_type": "code",
   "execution_count": 9,
   "metadata": {},
   "outputs": [
    {
     "name": "stdout",
     "output_type": "stream",
     "text": [
      "La temperatura promedio durante los meses de verano es: 24.36°C\n"
     ]
    }
   ],
   "source": [
    "archivo_csv = \"Temperatura historica/330020_2019_Temperatura_.csv\"\n",
    "data = pd.read_csv(archivo_csv, sep='[;,]', engine=\"python\")\n",
    "\n",
    "\n",
    "data['momento'] = pd.to_datetime(data['momento'], format='%d-%m-%Y %H:%M:%S')\n",
    "\n",
    "\n",
    "meses_verano = [12, 1, 2]\n",
    "data_verano = data[data['momento'].dt.month.isin(meses_verano)]\n",
    "data_verano = data_verano[(data_verano['momento'].dt.hour >= 10) & (data_verano['momento'].dt.hour <= 21)]\n",
    "\n",
    "tp_2019 = data_verano['Ts_Valor'].mean()\n",
    "\n",
    "# Imprimir el resultado\n",
    "print(f\"La temperatura promedio durante los meses de verano es: {tp_2019:.2f}°C\")"
   ]
  },
  {
   "cell_type": "markdown",
   "metadata": {},
   "source": [
    "## 2020"
   ]
  },
  {
   "cell_type": "code",
   "execution_count": 10,
   "metadata": {},
   "outputs": [
    {
     "name": "stdout",
     "output_type": "stream",
     "text": [
      "La temperatura promedio durante los meses de verano es: 24.05°C\n"
     ]
    }
   ],
   "source": [
    "archivo_csv = \"Temperatura historica/330020_2020_Temperatura_.csv\"\n",
    "data = pd.read_csv(archivo_csv, sep='[;,]', engine=\"python\")\n",
    "\n",
    "\n",
    "data['momento'] = pd.to_datetime(data['momento'], format='%d-%m-%Y %H:%M:%S')\n",
    "\n",
    "\n",
    "meses_verano = [12, 1, 2]\n",
    "data_verano = data[data['momento'].dt.month.isin(meses_verano)]\n",
    "data_verano = data_verano[(data_verano['momento'].dt.hour >= 10) & (data_verano['momento'].dt.hour <= 21)]\n",
    "\n",
    "tp_2020 = data_verano['Ts_Valor'].mean()\n",
    "\n",
    "# Imprimir el resultado\n",
    "print(f\"La temperatura promedio durante los meses de verano es: {tp_2020:.2f}°C\")"
   ]
  },
  {
   "cell_type": "markdown",
   "metadata": {},
   "source": [
    "## 2021"
   ]
  },
  {
   "cell_type": "code",
   "execution_count": 11,
   "metadata": {},
   "outputs": [
    {
     "name": "stdout",
     "output_type": "stream",
     "text": [
      "La temperatura promedio durante los meses de verano es: 22.66°C\n"
     ]
    }
   ],
   "source": [
    "archivo_csv = \"Temperatura historica/330020_2021_Temperatura_.csv\"\n",
    "data = pd.read_csv(archivo_csv, sep='[;,]', engine=\"python\")\n",
    "\n",
    "\n",
    "data['momento'] = pd.to_datetime(data['momento'], format='%d-%m-%Y %H:%M:%S')\n",
    "\n",
    "\n",
    "meses_verano = [12, 1, 2]\n",
    "data_verano = data[data['momento'].dt.month.isin(meses_verano)]\n",
    "data_verano = data_verano[(data_verano['momento'].dt.hour >= 10) & (data_verano['momento'].dt.hour <= 21)]\n",
    "\n",
    "tp_2021 = data_verano['Ts_Valor'].mean()\n",
    "\n",
    "# Imprimir el resultado\n",
    "print(f\"La temperatura promedio durante los meses de verano es: {tp_2021:.2f}°C\")"
   ]
  },
  {
   "cell_type": "markdown",
   "metadata": {},
   "source": [
    "## 2022"
   ]
  },
  {
   "cell_type": "code",
   "execution_count": 12,
   "metadata": {},
   "outputs": [
    {
     "name": "stdout",
     "output_type": "stream",
     "text": [
      "La temperatura promedio durante los meses de verano es: 23.45°C\n"
     ]
    }
   ],
   "source": [
    "archivo_csv = \"Temperatura historica/330020_2022_Temperatura_.csv\"\n",
    "data = pd.read_csv(archivo_csv, sep='[;,]', engine=\"python\")\n",
    "\n",
    "\n",
    "data['momento'] = pd.to_datetime(data['momento'], format='%d-%m-%Y %H:%M:%S')\n",
    "\n",
    "\n",
    "meses_verano = [12, 1, 2]\n",
    "data_verano = data[data['momento'].dt.month.isin(meses_verano)]\n",
    "data_verano = data_verano[(data_verano['momento'].dt.hour >= 10) & (data_verano['momento'].dt.hour <= 21)]\n",
    "\n",
    "tp_2022 = data_verano['Ts_Valor'].mean()\n",
    "\n",
    "# Imprimir el resultado\n",
    "print(f\"La temperatura promedio durante los meses de verano es: {tp_2022:.2f}°C\")"
   ]
  },
  {
   "cell_type": "markdown",
   "metadata": {},
   "source": [
    "## 2023"
   ]
  },
  {
   "cell_type": "code",
   "execution_count": 13,
   "metadata": {},
   "outputs": [
    {
     "name": "stdout",
     "output_type": "stream",
     "text": [
      "La temperatura promedio durante los meses de verano es: 23.76°C\n"
     ]
    }
   ],
   "source": [
    "archivo_csv = \"Temperatura historica/330020_2023_Temperatura_.csv\"\n",
    "data = pd.read_csv(archivo_csv, sep='[;,]', engine=\"python\")\n",
    "\n",
    "\n",
    "data['momento'] = pd.to_datetime(data['momento'], format='%d-%m-%Y %H:%M:%S')\n",
    "\n",
    "\n",
    "meses_verano = [12, 1, 2]\n",
    "data_verano = data[data['momento'].dt.month.isin(meses_verano)]\n",
    "data_verano = data_verano[(data_verano['momento'].dt.hour >= 10) & (data_verano['momento'].dt.hour <= 21)]\n",
    "\n",
    "tp_2023 = data_verano['Ts_Valor'].mean()\n",
    "\n",
    "# Imprimir el resultado\n",
    "print(f\"La temperatura promedio durante los meses de verano es: {tp_2023:.2f}°C\")"
   ]
  },
  {
   "cell_type": "markdown",
   "metadata": {},
   "source": [
    "## 2024"
   ]
  },
  {
   "cell_type": "code",
   "execution_count": 19,
   "metadata": {},
   "outputs": [
    {
     "name": "stdout",
     "output_type": "stream",
     "text": [
      "   CodigoNacional              momento  Ts_Valor\n",
      "0          330020  01-01-2024 00:00:00      21.4\n",
      "1          330020  01-01-2024 01:00:00      19.4\n",
      "2          330020  01-01-2024 02:00:00      17.9\n",
      "3          330020  01-01-2024 03:00:00      17.0\n",
      "4          330020  01-01-2024 04:00:00      15.7\n",
      "La temperatura promedio durante los meses de verano es: 24.80°C\n"
     ]
    }
   ],
   "source": [
    "archivo_csv = \"Temperatura historica/330020_2024_Temperatura_.csv\"\n",
    "data = pd.read_csv(archivo_csv, sep='[;,]', engine=\"python\")\n",
    "\n",
    "\n",
    "\n",
    "data['momento'] = pd.to_datetime(data['momento'], format='%d-%m-%Y %H:%M:%S')\n",
    "\n",
    "\n",
    "meses_verano = [12, 1, 2]\n",
    "data_verano = data[data['momento'].dt.month.isin(meses_verano)]\n",
    "data_verano = data_verano[(data_verano['momento'].dt.hour >= 10) & (data_verano['momento'].dt.hour <= 21)]\n",
    "\n",
    "tp_2024 = data_verano['Ts_Valor'].mean()\n",
    "\n",
    "# Imprimir el resultado\n",
    "print(f\"La temperatura promedio durante los meses de verano es: {tp_2024:.2f}°C\")"
   ]
  },
  {
   "cell_type": "markdown",
   "metadata": {},
   "source": [
    "## Temperatura promedio ultimos 7 años"
   ]
  },
  {
   "cell_type": "code",
   "execution_count": 72,
   "metadata": {},
   "outputs": [
    {
     "name": "stdout",
     "output_type": "stream",
     "text": [
      "Temperatura promedio: 23.86 °C\n"
     ]
    }
   ],
   "source": [
    "list = [tp_2017, tp_2018, tp_2019, tp_2020, tp_2021, tp_2022, tp_2023, tp_2024]\n",
    "tp = sum(list)/len(list)\n",
    "print(f\"Temperatura promedio: {tp:.2f} °C\")\n"
   ]
  },
  {
   "cell_type": "markdown",
   "metadata": {},
   "source": [
    "## Grados hora"
   ]
  },
  {
   "cell_type": "code",
   "execution_count": 40,
   "metadata": {},
   "outputs": [],
   "source": [
    "def limite_temp(T):\n",
    "    T_ref = 21\n",
    "    delta = T - T_ref\n",
    "    if T - T_ref > 2:\n",
    "        return (True, delta)\n",
    "    else:\n",
    "        return (False, delta)"
   ]
  },
  {
   "cell_type": "code",
   "execution_count": 75,
   "metadata": {},
   "outputs": [
    {
     "name": "stdout",
     "output_type": "stream",
     "text": [
      " Los grados hora promedio son 1992.67 \n",
      " Los grado hora consumidos mensualmente por cada año son:[1715, 2295, 1776, 2021, 2304, 1476, 1677, 2429, 2241]\n"
     ]
    }
   ],
   "source": [
    "año = 2016\n",
    "gh_año = []\n",
    "for i in range(9):\n",
    "    grados_hora = 0\n",
    "    archive = f\"Temperatura historica/330020_{año}_Temperatura_.csv\"\n",
    "    data = pd.read_csv(archive, sep='[;,]', engine=\"python\")\n",
    "    data[\"momento\"] = pd.to_datetime(data['momento'], format='%d-%m-%Y %H:%M:%S')\n",
    "    meses_verano = [12, 1, 2, 3]\n",
    "    data_verano = data[data[\"momento\"].dt.hour >= 10 & (data[\"momento\"].dt.hour <= 22)]\n",
    "    data_verano = data[data[\"momento\"].dt.month.isin(meses_verano)]\n",
    "    for i in range(len(data_verano)):\n",
    "        T = data.iloc[i][\"Ts_Valor\"]\n",
    "        resultado = limite_temp(T)\n",
    "        if resultado[0]:\n",
    "            grados_hora += resultado[1]\n",
    "        else:\n",
    "            pass\n",
    "    gh_año.append(int(grados_hora/3))      \n",
    "    año += 1\n",
    "\n",
    "\n",
    "msj = f\" Los grado hora consumidos mensualmente por cada año son:{gh_año}\"\n",
    "print(f\" Los grados hora promedio son {sum(gh_año)/len(gh_año):.2f} \")\n",
    "print(msj)"
   ]
  },
  {
   "cell_type": "markdown",
   "metadata": {},
   "source": [
    "# Invierno"
   ]
  },
  {
   "cell_type": "code",
   "execution_count": 71,
   "metadata": {},
   "outputs": [
    {
     "name": "stdout",
     "output_type": "stream",
     "text": [
      "La temperatura diaria anual fue: [10.710054644808745, 11.089874110563766, 11.278907103825137, 10.988743169398909, 11.423005464480873, 10.457135046473484, 12.218852459016393, 11.003606557377049]\n",
      "La temperatura diaria promedio de los últimos 8 años es: 11.15\n"
     ]
    }
   ],
   "source": [
    "año = 2017\n",
    "T_invierno = []\n",
    "for i in range(8):\n",
    "    archive = f\"Temperatura historica/330020_{año}_Temperatura_.csv\"\n",
    "    data = pd.read_csv(archive, sep='[;,]', engine=\"python\")\n",
    "    data[\"momento\"] = pd.to_datetime(data['momento'], format='%d-%m-%Y %H:%M:%S')\n",
    "    meses_invierno = [6, 7, 8, 9]\n",
    "    data_invierno = data[data['momento'].dt.month.isin(meses_invierno)]\n",
    "    data_invierno = data_invierno[(data_invierno['momento'].dt.hour >= 8) & (data_invierno['momento'].dt.hour <= 22)]\n",
    "    tmax = float(data_invierno['Ts_Valor'].mean())\n",
    "    T_invierno.append(tmax)\n",
    "    año += 1\n",
    "\n",
    "T_invierno_mean = sum(T_invierno)/len(T_invierno)\n",
    "\n",
    "msj = f\"La temperatura diaria promedio de los últimos 8 años es: {T_invierno_mean:.2f}\"\n",
    "print(f\"La temperatura diaria anual fue: {T_invierno}\")\n",
    "print(msj)\n"
   ]
  },
  {
   "cell_type": "markdown",
   "metadata": {},
   "source": [
    "## Grados hora"
   ]
  },
  {
   "cell_type": "code",
   "execution_count": 84,
   "metadata": {},
   "outputs": [],
   "source": [
    "def limite_temp_i(T):\n",
    "    T_ref = 18\n",
    "    delta = T_ref - T\n",
    "    if delta > 1:\n",
    "        return (True, delta)\n",
    "    else:\n",
    "        return (False, delta)"
   ]
  },
  {
   "cell_type": "code",
   "execution_count": 85,
   "metadata": {},
   "outputs": [
    {
     "name": "stdout",
     "output_type": "stream",
     "text": [
      " Los grados hora promedio son 1937.00 \n",
      " Los grado hora consumidos mensualmente por cada año son:[1882, 1762, 1993, 2084, 1739, 2294, 2363, 1662, 1654]\n"
     ]
    }
   ],
   "source": [
    "año = 2016\n",
    "gh_año = []\n",
    "for i in range(9):\n",
    "    grados_hora = 0\n",
    "    archive = f\"Temperatura historica/330020_{año}_Temperatura_.csv\"\n",
    "    data = pd.read_csv(archive, sep='[;,]', engine=\"python\")\n",
    "    data[\"momento\"] = pd.to_datetime(data['momento'], format='%d-%m-%Y %H:%M:%S')\n",
    "    meses_invierno = [6, 7, 8, 9]\n",
    "    data_invierno = data[data[\"momento\"].dt.hour >= 7 & (data[\"momento\"].dt.hour <= 22)]\n",
    "    data_invierno = data[data[\"momento\"].dt.month.isin(meses_invierno)]\n",
    "    # print(data_invierno)\n",
    "    for i in range(len(data_invierno)):\n",
    "        T = data.iloc[i][\"Ts_Valor\"]\n",
    "        # print(T)\n",
    "        resultado = limite_temp_i(T)\n",
    "        # print(resultado[1])\n",
    "        if resultado[0]:\n",
    "            grados_hora += resultado[1]\n",
    "        else:\n",
    "            pass\n",
    "    gh_año.append(int(grados_hora/3))      \n",
    "    año += 1\n",
    "\n",
    "\n",
    "msj = f\" Los grado hora consumidos mensualmente por cada año son:{gh_año}\"\n",
    "print(f\" Los grados hora promedio son {sum(gh_año)/len(gh_año):.2f} \")\n",
    "print(msj)"
   ]
  }
 ],
 "metadata": {
  "kernelspec": {
   "display_name": "Python 3",
   "language": "python",
   "name": "python3"
  },
  "language_info": {
   "codemirror_mode": {
    "name": "ipython",
    "version": 3
   },
   "file_extension": ".py",
   "mimetype": "text/x-python",
   "name": "python",
   "nbconvert_exporter": "python",
   "pygments_lexer": "ipython3",
   "version": "3.11.4"
  }
 },
 "nbformat": 4,
 "nbformat_minor": 2
}
