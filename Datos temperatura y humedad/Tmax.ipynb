{
 "cells": [
  {
   "cell_type": "markdown",
   "metadata": {},
   "source": [
    "importar pandas"
   ]
  },
  {
   "cell_type": "code",
   "execution_count": 4,
   "metadata": {},
   "outputs": [],
   "source": [
    "import pandas as pd"
   ]
  },
  {
   "cell_type": "markdown",
   "metadata": {},
   "source": [
    "# Verano"
   ]
  },
  {
   "cell_type": "code",
   "execution_count": 9,
   "metadata": {},
   "outputs": [
    {
     "name": "stdout",
     "output_type": "stream",
     "text": [
      "La temperatura máxima diaria promedio de los últimos 8 años es: 29.65\n"
     ]
    }
   ],
   "source": [
    "año = 2016\n",
    "Tmax = list()\n",
    "for i in range(9):\n",
    "    archive = f\"T maxima historica/330020_{año}_TMaxima_.csv\"\n",
    "    data = pd.read_csv(archive, sep='[;,]', engine=\"python\")\n",
    "    data[\"momento\"] = pd.to_datetime(data['momento'], format='%d-%m-%Y %H:%M:%S')\n",
    "    meses_verano = [11, 12, 1, 2, 3]\n",
    "    data_verano = data[data['momento'].dt.month.isin(meses_verano)]\n",
    "    tmax = data_verano['TxPM_Valor'].mean()\n",
    "    Tmax.append(tmax)\n",
    "    año += 1\n",
    "\n",
    "Tmax_mean = sum(Tmax)/len(Tmax)\n",
    "\n",
    "msj = f\"La temperatura máxima diaria promedio de los últimos 8 años es: {Tmax_mean:.2f}\"\n",
    "print(msj)\n",
    "\n"
   ]
  },
  {
   "cell_type": "markdown",
   "metadata": {},
   "source": [
    "# Invierno"
   ]
  },
  {
   "cell_type": "code",
   "execution_count": 13,
   "metadata": {},
   "outputs": [
    {
     "name": "stdout",
     "output_type": "stream",
     "text": [
      "La temperatura mínima diaria promedio de los últimos 8 años es: 4.68\n"
     ]
    }
   ],
   "source": [
    "año = 2016\n",
    "Tmin = list()\n",
    "for i in range(9):\n",
    "    archive = f\"T minima/330020_{año}_TMinima_.csv\"\n",
    "    data = pd.read_csv(archive, sep='[;,]', engine=\"python\")\n",
    "    data[\"momento\"] = pd.to_datetime(data['momento'], format='%d-%m-%Y %H:%M:%S')\n",
    "    meses_invierno = [6,7,8,9]\n",
    "    data_invierno = data[data['momento'].dt.month.isin(meses_invierno)]\n",
    "    tmin = data_invierno['TnAM_Valor'].mean()\n",
    "    Tmin.append(tmin)\n",
    "    año += 1\n",
    "\n",
    "Tmin_mean = sum(Tmin)/len(Tmin)\n",
    "\n",
    "msj = f\"La temperatura mínima diaria promedio de los últimos 8 años es: {Tmin_mean:.2f}\"\n",
    "print(msj)\n"
   ]
  }
 ],
 "metadata": {
  "kernelspec": {
   "display_name": "Python 3",
   "language": "python",
   "name": "python3"
  },
  "language_info": {
   "codemirror_mode": {
    "name": "ipython",
    "version": 3
   },
   "file_extension": ".py",
   "mimetype": "text/x-python",
   "name": "python",
   "nbconvert_exporter": "python",
   "pygments_lexer": "ipython3",
   "version": "3.11.4"
  }
 },
 "nbformat": 4,
 "nbformat_minor": 2
}
