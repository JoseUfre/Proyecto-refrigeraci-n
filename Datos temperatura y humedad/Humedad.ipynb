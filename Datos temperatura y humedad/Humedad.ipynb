{
 "cells": [
  {
   "cell_type": "code",
   "execution_count": 1,
   "metadata": {},
   "outputs": [],
   "source": [
    "import pandas as pd"
   ]
  },
  {
   "cell_type": "markdown",
   "metadata": {},
   "source": [
    "# Verano"
   ]
  },
  {
   "cell_type": "code",
   "execution_count": 10,
   "metadata": {},
   "outputs": [
    {
     "name": "stdout",
     "output_type": "stream",
     "text": [
      "La humedad relativa diaria promedio de los últimos 8 años es: 52.09\n"
     ]
    }
   ],
   "source": [
    "año = 2017\n",
    "HR = list()\n",
    "for i in range(8):\n",
    "    archive = f\"Humedad historica/330020_{año}_Humedad_.csv\"\n",
    "    data = pd.read_csv(archive, sep='[;,]', engine=\"python\")\n",
    "    data[\"momento\"] = pd.to_datetime(data['momento'], format='%d-%m-%Y %H:%M:%S')\n",
    "    meses_verano = [11, 12, 1, 2, 3]\n",
    "    data_verano = data[data['momento'].dt.month.isin(meses_verano)]\n",
    "    tmax = data_verano['HR_Valor'].mean()\n",
    "    HR.append(tmax)\n",
    "    año += 1\n",
    "\n",
    "Tmax_mean = sum(HR)/len(HR)\n",
    "\n",
    "msj = f\"La humedad relativa diaria promedio de los últimos 8 años es: {Tmax_mean:.2f}\"\n",
    "print(msj)\n"
   ]
  },
  {
   "cell_type": "markdown",
   "metadata": {},
   "source": [
    "# Invierno"
   ]
  },
  {
   "cell_type": "code",
   "execution_count": 11,
   "metadata": {},
   "outputs": [
    {
     "name": "stdout",
     "output_type": "stream",
     "text": [
      "La humedad relativa diaria promedio de los últimos 8 años es: 74.02\n"
     ]
    }
   ],
   "source": [
    "año = 2017\n",
    "HR = list()\n",
    "for i in range(8):\n",
    "    archive = f\"Humedad historica/330020_{año}_Humedad_.csv\"\n",
    "    data = pd.read_csv(archive, sep='[;,]', engine=\"python\")\n",
    "    data[\"momento\"] = pd.to_datetime(data['momento'], format='%d-%m-%Y %H:%M:%S')\n",
    "    meses_invierno = [6, 7, 8, 9]\n",
    "    data_inv = data[data['momento'].dt.month.isin(meses_invierno)]\n",
    "    Hr = data_inv['HR_Valor'].mean()\n",
    "    HR.append(Hr)\n",
    "    año += 1\n",
    "\n",
    "Tmax_mean = sum(HR)/len(HR)\n",
    "\n",
    "msj = f\"La humedad relativa diaria promedio de los últimos 8 años es: {Tmax_mean:.2f}\"\n",
    "print(msj)"
   ]
  }
 ],
 "metadata": {
  "kernelspec": {
   "display_name": "Python 3",
   "language": "python",
   "name": "python3"
  },
  "language_info": {
   "codemirror_mode": {
    "name": "ipython",
    "version": 3
   },
   "file_extension": ".py",
   "mimetype": "text/x-python",
   "name": "python",
   "nbconvert_exporter": "python",
   "pygments_lexer": "ipython3",
   "version": "3.11.4"
  }
 },
 "nbformat": 4,
 "nbformat_minor": 2
}
